{
 "cells": [
  {
   "cell_type": "markdown",
   "metadata": {},
   "source": [
    "# Redesign of Gaussian algorithm\n",
    "This implementation of the gaussian algorithm chops up\n",
    "the input matrix into several blocks.\n",
    "The individual blocks can then be handled by independent threads.\n",
    "This sounds easy, but it really isn't. :)\n",
    "\n",
    "For the code see [this repository](https://github.com/lbfm-rwth/GaussPar/)."
   ]
  },
  {
   "cell_type": "code",
   "execution_count": 13,
   "metadata": {},
   "outputs": [],
   "source": [
    "Read(\"read.g\");\n",
    "Read(\"main_seq_trafo.g\");"
   ]
  },
  {
   "cell_type": "code",
   "execution_count": 16,
   "metadata": {},
   "outputs": [],
   "source": [
    "n := 200;; numberChops := 8;; q := 5;;                                                                      "
   ]
  },
  {
   "cell_type": "code",
   "execution_count": 17,
   "metadata": {},
   "outputs": [],
   "source": [
    "A := RandomMat(n, n, GF(q));;                                                                               "
   ]
  },
  {
   "cell_type": "markdown",
   "metadata": {},
   "source": [
    "Call the new implementation on A."
   ]
  },
  {
   "cell_type": "code",
   "execution_count": 18,
   "metadata": {},
   "outputs": [],
   "source": [
    "result := EchelonMatTransformationBlockwise(GF(q), A, numberChops, numberChops);;"
   ]
  },
  {
   "cell_type": "markdown",
   "metadata": {},
   "source": [
    "Call the \"Gauss\" package implementation on A.\n",
    "Use the result to compare it with our implementation."
   ]
  },
  {
   "cell_type": "code",
   "execution_count": 20,
   "metadata": {},
   "outputs": [
    {
     "data": {
      "text/plain": [
       "true"
      ]
     },
     "execution_count": 20,
     "metadata": {
      "text/plain": ""
     },
     "output_type": "execute_result"
    }
   ],
   "source": [
    "result_gauss_sequential := EchelonMatTransformation(A);;\n",
    "-1 * result.vectors = result_gauss_sequential.vectors;"
   ]
  }
 ],
 "metadata": {
  "kernelspec": {
   "display_name": "GAP 4 (native)",
   "language": "gap",
   "name": "gap-native"
  },
  "language_info": {
   "codemirror_mode": "gap",
   "file_extension": ".g",
   "mimetype": "text/x-gap",
   "name": "GAP (native)",
   "nbconvert_exporter": "",
   "pygments_lexer": "gap",
   "version": "4.dev"
  }
 },
 "nbformat": 4,
 "nbformat_minor": 2
}
